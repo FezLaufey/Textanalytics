{
 "cells": [
  {
   "cell_type": "markdown",
   "id": "5c4a1f01",
   "metadata": {},
   "source": [
    "# CISB5123 Text Analytics\n",
    "## Lab Assignment 1\n",
    "\n",
    "Group pair:\n",
    "1. Name: Muhammad Ilham Bin Muhammad Redzuan Phua (SW01081025)\n",
    "2. Name: Muhammad Hafeez Bin Muhammad Ramizal (SW01081025)"
   ]
  },
  {
   "cell_type": "code",
   "execution_count": 19,
   "id": "7f89d9d0",
   "metadata": {},
   "outputs": [],
   "source": [
    "# Import all required libraries\n",
    "import requests\n",
    "import csv\n",
    "import json\n",
    "import re\n",
    "import pandas as pd\n",
    "from datetime import datetime"
   ]
  },
  {
   "cell_type": "code",
   "execution_count": 20,
   "id": "3eae7f0d",
   "metadata": {},
   "outputs": [],
   "source": [
    "# Define the product URL\n",
    "url = 'https://shopee.com.my/Logitech-G-PRO-PRO-X-Superlight-Wireless-Gaming-Mouse-i.49025587.3360835555?sp_atk=2272c440-13e8-4491-a326-4f31e8b348ca&xptdk=2272c440-13e8-4491-a326-4f31e8b348ca'\n",
    "\n",
    "# Function to look for specific pattern in the URL\n",
    "r = re.search(r'i\\.(\\d+)\\.(\\d+)', url)\n",
    "\n",
    "# If the pattern is found, extract the data\n",
    "if r:\n",
    "    shop_id, item_id = r.group(1), r.group(2)\n",
    "else:\n",
    "    print(\"Invalid URL\")\n",
    "    exit()\n",
    "\n"
   ]
  },
  {
   "cell_type": "code",
   "execution_count": 21,
   "id": "506c0bb6",
   "metadata": {},
   "outputs": [],
   "source": [
    "# Initialize an empty list to store the review\n",
    "review_list = []"
   ]
  },
  {
   "cell_type": "code",
   "execution_count": 22,
   "id": "199153e7",
   "metadata": {},
   "outputs": [],
   "source": [
    "# Initialize offset to 0 which used to paginate through the reviews\n",
    "offset = 0\n",
    "\n",
    "# Initialize a counter for the number of pages\n",
    "page_count = 1\n",
    "\n",
    "# Enters while loop to fetch reviews in batches of 20 (as indicated by the 'limit=20' query parameter in the request URL)\n",
    "while True:\n",
    "    ratings_url = f'https://shopee.com.my/api/v2/item/get_ratings?filter=0&flag=1&itemid={item_id}&limit=20&offset={offset}&shopid={shop_id}&type=0'\n",
    "    data = requests.get(ratings_url).json()\n",
    "\n",
    "    # Iterate through each rating and append it to the data list\n",
    "    for rating in data['data']['ratings']:\n",
    "        author_username = rating['author_username']\n",
    "\n",
    "        # Convert Unix timestamp to readable date and time\n",
    "        timestamp = rating['ctime']\n",
    "        readable_time = datetime.fromtimestamp(timestamp).strftime('%Y-%m-%d %H:%M:%S')\n",
    "\n",
    "        comment = rating['comment']\n",
    "\n",
    "        # Append a dictionary for each rating to the review_list\n",
    "        review_list.append({\n",
    "            'Reviewer Username': author_username,\n",
    "            'Date of review': readable_time,\n",
    "            'Comment': comment\n",
    "        })\n",
    "\n",
    "    # Check if the number of reviews fetched less than 20,\n",
    "    # or page_count already reach 5 pages. If so, then break\n",
    "    # the loop\n",
    "    if len(data['data']['ratings']) < 20 or page_count >= 5:\n",
    "        break\n",
    "\n",
    "    # Increase the page count\n",
    "    page_count += 1\n",
    "\n",
    "    # Increase offset by 20 to fetch the next page\n",
    "    offset += 20"
   ]
  },
  {
   "cell_type": "code",
   "execution_count": 24,
   "id": "38a4fa3c",
   "metadata": {},
   "outputs": [
    {
     "name": "stdout",
     "output_type": "stream",
     "text": [
      "All reviews have been saved to shopee.csv\n"
     ]
    }
   ],
   "source": [
    "# Save the review to a CSV file\n",
    "with open('shopee.csv', 'w', encoding='utf-8', newline='') as csvfile:\n",
    "    fieldnames = ['Reviewer Username', 'Date of review', 'Comment']\n",
    "    writer = csv.DictWriter(csvfile, fieldnames=fieldnames)\n",
    "\n",
    "    # Write headers\n",
    "    writer.writeheader()\n",
    "\n",
    "    # Write quotes\n",
    "    for review in review_list:\n",
    "        writer.writerow(review)\n",
    "\n",
    "# Other method to convert review_list to CSV file\n",
    "# using pandas DataFrame\n",
    "df = pd.DataFrame(review_list)\n",
    "\n",
    "# Save the DataFrame to a CSV file\n",
    "df.to_csv('shopee.csv', index=False)\n",
    "\n",
    "# Once done print status message\n",
    "print(\"All reviews have been saved to shopee.csv\")"
   ]
  },
  {
   "cell_type": "code",
   "execution_count": null,
   "id": "9aeae892",
   "metadata": {},
   "outputs": [],
   "source": []
  }
 ],
 "metadata": {
  "kernelspec": {
   "display_name": "Python 3 (ipykernel)",
   "language": "python",
   "name": "python3"
  },
  "language_info": {
   "codemirror_mode": {
    "name": "ipython",
    "version": 3
   },
   "file_extension": ".py",
   "mimetype": "text/x-python",
   "name": "python",
   "nbconvert_exporter": "python",
   "pygments_lexer": "ipython3",
   "version": "3.11.5"
  }
 },
 "nbformat": 4,
 "nbformat_minor": 5
}
